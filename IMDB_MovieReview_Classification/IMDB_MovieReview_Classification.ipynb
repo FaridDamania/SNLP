{
 "cells": [
  {
   "cell_type": "markdown",
   "metadata": {},
   "source": [
    "#### Part 1: Load Pretrained Word2Vec Model and Find Similar Words"
   ]
  },
  {
   "cell_type": "markdown",
   "metadata": {},
   "source": [
    "**Code to Load the Model and Find Similar Words**"
   ]
  },
  {
   "cell_type": "code",
   "execution_count": 2,
   "metadata": {},
   "outputs": [],
   "source": [
    "import gensim.downloader as api"
   ]
  },
  {
   "cell_type": "code",
   "execution_count": 3,
   "metadata": {},
   "outputs": [],
   "source": [
    "# Load the pretrained Word2Vec model\n",
    "wv_pretrained = api.load(\"word2vec-google-news-300\")"
   ]
  },
  {
   "cell_type": "code",
   "execution_count": 4,
   "metadata": {},
   "outputs": [],
   "source": [
    "# List of words to find similar words for\n",
    "words = [\"king\", \"computer\", \"car\", \"apple\", \"university\"]"
   ]
  },
  {
   "cell_type": "code",
   "execution_count": 5,
   "metadata": {},
   "outputs": [
    {
     "name": "stdout",
     "output_type": "stream",
     "text": [
      "Top 5 words similar to 'king':\n",
      "  kings: 0.7138\n",
      "  queen: 0.6511\n",
      "  monarch: 0.6413\n",
      "  crown_prince: 0.6204\n",
      "  prince: 0.6160\n",
      "\n",
      "Top 5 words similar to 'computer':\n",
      "  computers: 0.7979\n",
      "  laptop: 0.6640\n",
      "  laptop_computer: 0.6549\n",
      "  Computer: 0.6473\n",
      "  com_puter: 0.6082\n",
      "\n",
      "Top 5 words similar to 'car':\n",
      "  vehicle: 0.7821\n",
      "  cars: 0.7424\n",
      "  SUV: 0.7161\n",
      "  minivan: 0.6907\n",
      "  truck: 0.6736\n",
      "\n",
      "Top 5 words similar to 'apple':\n",
      "  apples: 0.7204\n",
      "  pear: 0.6451\n",
      "  fruit: 0.6410\n",
      "  berry: 0.6302\n",
      "  pears: 0.6134\n",
      "\n",
      "Top 5 words similar to 'university':\n",
      "  universities: 0.7004\n",
      "  faculty: 0.6781\n",
      "  unversity: 0.6758\n",
      "  undergraduate: 0.6587\n",
      "  univeristy: 0.6585\n",
      "\n"
     ]
    }
   ],
   "source": [
    "# Find and print the most similar words for each word in the list\n",
    "for word in words:\n",
    "    similar_words = wv_pretrained.most_similar(word, topn=5)\n",
    "    print(f\"Top 5 words similar to '{word}':\")\n",
    "    for similar_word, similarity in similar_words:\n",
    "        print(f\"  {similar_word}: {similarity:.4f}\")\n",
    "    print()"
   ]
  },
  {
   "cell_type": "markdown",
   "metadata": {},
   "source": [
    "**Analogies**"
   ]
  },
  {
   "cell_type": "code",
   "execution_count": 6,
   "metadata": {},
   "outputs": [],
   "source": [
    "analogies = [\n",
    "    (\"king\", \"man\", \"woman\", \"queen\"),\n",
    "    (\"Paris\", \"France\", \"Germany\", \"Berlin\"),\n",
    "    (\"Microsoft\", \"Windows\", \"Apple\", \"Mac\"),\n",
    "]"
   ]
  },
  {
   "cell_type": "code",
   "execution_count": 7,
   "metadata": {},
   "outputs": [
    {
     "name": "stdout",
     "output_type": "stream",
     "text": [
      "Result for king - man + woman ≈ queen:\n",
      "  queen: 0.7118\n",
      "  monarch: 0.6190\n",
      "  princess: 0.5902\n",
      "  crown_prince: 0.5499\n",
      "  prince: 0.5377\n",
      "  kings: 0.5237\n",
      "  Queen_Consort: 0.5236\n",
      "  queens: 0.5181\n",
      "  sultan: 0.5099\n",
      "  monarchy: 0.5087\n",
      "\n",
      "Result for Paris - France + Germany ≈ Berlin:\n",
      "  Berlin: 0.7644\n",
      "  Frankfurt: 0.7330\n",
      "  Dusseldorf: 0.7009\n",
      "  Munich: 0.6774\n",
      "  Cologne: 0.6470\n",
      "  Düsseldorf: 0.6400\n",
      "  Stuttgart: 0.6361\n",
      "  Munich_Germany: 0.6238\n",
      "  Budapest: 0.6193\n",
      "  Hamburg: 0.6169\n",
      "\n",
      "Result for Microsoft - Windows + Apple ≈ Mac:\n",
      "  Apple_Computer: 0.6469\n",
      "  Apple_NSDQ_AAPL: 0.6298\n",
      "  Apple_AAPL: 0.6296\n",
      "  Google: 0.6181\n",
      "  Apple_NASDAQ_AAPL: 0.6131\n",
      "  Apple_Nasdaq_AAPL: 0.6031\n",
      "  Steve_Jobs: 0.5939\n",
      "  Apple_AAPL_Fortune: 0.5575\n",
      "  Apple_Inc_AAPL.O: 0.5512\n",
      "  Apple_nasdaq_AAPL: 0.5483\n",
      "\n"
     ]
    }
   ],
   "source": [
    "# Perform and print the analogy tests\n",
    "for a, b, c, d in analogies:\n",
    "    result = wv_pretrained.most_similar(positive=[a, c], negative=[b])\n",
    "    print(f\"Result for {a} - {b} + {c} ≈ {d}:\")\n",
    "    for word, similarity in result:\n",
    "        print(f\"  {word}: {similarity:.4f}\")\n",
    "    print()"
   ]
  },
  {
   "cell_type": "markdown",
   "metadata": {},
   "source": [
    "### Part 2: Build a Movie Review Sentiment Classifier using Word2Vec"
   ]
  },
  {
   "cell_type": "markdown",
   "metadata": {},
   "source": [
    "**Load the Dataset and Perform Text EDA**"
   ]
  },
  {
   "cell_type": "code",
   "execution_count": 8,
   "metadata": {},
   "outputs": [],
   "source": [
    "import pandas as pd"
   ]
  },
  {
   "cell_type": "code",
   "execution_count": 9,
   "metadata": {},
   "outputs": [],
   "source": [
    "# Load the dataset\n",
    "IMDB = ('/Users/fariddamania/Downloads/SEM VII/NLP/Dataset/IMDB Dataset.csv')\n",
    "reviews = pd.read_csv(IMDB)"
   ]
  },
  {
   "cell_type": "code",
   "execution_count": 10,
   "metadata": {},
   "outputs": [
    {
     "data": {
      "text/html": [
       "<div>\n",
       "<style scoped>\n",
       "    .dataframe tbody tr th:only-of-type {\n",
       "        vertical-align: middle;\n",
       "    }\n",
       "\n",
       "    .dataframe tbody tr th {\n",
       "        vertical-align: top;\n",
       "    }\n",
       "\n",
       "    .dataframe thead th {\n",
       "        text-align: right;\n",
       "    }\n",
       "</style>\n",
       "<table border=\"1\" class=\"dataframe\">\n",
       "  <thead>\n",
       "    <tr style=\"text-align: right;\">\n",
       "      <th></th>\n",
       "      <th>review</th>\n",
       "      <th>sentiment</th>\n",
       "    </tr>\n",
       "  </thead>\n",
       "  <tbody>\n",
       "    <tr>\n",
       "      <th>0</th>\n",
       "      <td>One of the other reviewers has mentioned that ...</td>\n",
       "      <td>positive</td>\n",
       "    </tr>\n",
       "    <tr>\n",
       "      <th>1</th>\n",
       "      <td>A wonderful little production. &lt;br /&gt;&lt;br /&gt;The...</td>\n",
       "      <td>positive</td>\n",
       "    </tr>\n",
       "    <tr>\n",
       "      <th>2</th>\n",
       "      <td>I thought this was a wonderful way to spend ti...</td>\n",
       "      <td>positive</td>\n",
       "    </tr>\n",
       "    <tr>\n",
       "      <th>3</th>\n",
       "      <td>Basically there's a family where a little boy ...</td>\n",
       "      <td>negative</td>\n",
       "    </tr>\n",
       "    <tr>\n",
       "      <th>4</th>\n",
       "      <td>Petter Mattei's \"Love in the Time of Money\" is...</td>\n",
       "      <td>positive</td>\n",
       "    </tr>\n",
       "  </tbody>\n",
       "</table>\n",
       "</div>"
      ],
      "text/plain": [
       "                                              review sentiment\n",
       "0  One of the other reviewers has mentioned that ...  positive\n",
       "1  A wonderful little production. <br /><br />The...  positive\n",
       "2  I thought this was a wonderful way to spend ti...  positive\n",
       "3  Basically there's a family where a little boy ...  negative\n",
       "4  Petter Mattei's \"Love in the Time of Money\" is...  positive"
      ]
     },
     "execution_count": 10,
     "metadata": {},
     "output_type": "execute_result"
    }
   ],
   "source": [
    "reviews.head(5)"
   ]
  },
  {
   "cell_type": "code",
   "execution_count": 11,
   "metadata": {},
   "outputs": [
    {
     "name": "stdout",
     "output_type": "stream",
     "text": [
      "                                              review sentiment\n",
      "0  One of the other reviewers has mentioned that ...  positive\n",
      "1  A wonderful little production. <br /><br />The...  positive\n",
      "2  I thought this was a wonderful way to spend ti...  positive\n",
      "3  Basically there's a family where a little boy ...  negative\n",
      "4  Petter Mattei's \"Love in the Time of Money\" is...  positive\n",
      "<class 'pandas.core.frame.DataFrame'>\n",
      "RangeIndex: 50000 entries, 0 to 49999\n",
      "Data columns (total 2 columns):\n",
      " #   Column     Non-Null Count  Dtype \n",
      "---  ------     --------------  ----- \n",
      " 0   review     50000 non-null  object\n",
      " 1   sentiment  50000 non-null  object\n",
      "dtypes: object(2)\n",
      "memory usage: 781.4+ KB\n",
      "None\n",
      "sentiment\n",
      "positive    25000\n",
      "negative    25000\n",
      "Name: count, dtype: int64\n",
      "review       0\n",
      "sentiment    0\n",
      "dtype: int64\n"
     ]
    }
   ],
   "source": [
    "# Perform basic EDA\n",
    "print(reviews.head())\n",
    "print(reviews.info())\n",
    "print(reviews['sentiment'].value_counts())\n",
    "print(reviews.isnull().sum())"
   ]
  },
  {
   "cell_type": "code",
   "execution_count": 12,
   "metadata": {},
   "outputs": [
    {
     "name": "stdout",
     "output_type": "stream",
     "text": [
      "count    50000.000000\n",
      "mean       231.156940\n",
      "std        171.343997\n",
      "min          4.000000\n",
      "25%        126.000000\n",
      "50%        173.000000\n",
      "75%        280.000000\n",
      "max       2470.000000\n",
      "Name: review, dtype: float64\n"
     ]
    }
   ],
   "source": [
    "# Distribution of review lengths\n",
    "review_lengths = reviews['review'].apply(lambda x: len(x.split()))\n",
    "print(review_lengths.describe())"
   ]
  },
  {
   "cell_type": "code",
   "execution_count": 13,
   "metadata": {},
   "outputs": [],
   "source": [
    "import matplotlib.pyplot as plt"
   ]
  },
  {
   "cell_type": "code",
   "execution_count": 14,
   "metadata": {},
   "outputs": [
    {
     "data": {
      "image/png": "[encoded data removed]",
      "text/plain": [
       "<Figure size 640x480 with 1 Axes>"
      ]
     },
     "metadata": {},
     "output_type": "display_data"
    }
   ],
   "source": [
    "# Plot distribution of review lengths\n",
    "plt.hist(review_lengths, bins=50)\n",
    "plt.xlabel('Review Length')\n",
    "plt.ylabel('Frequency')\n",
    "plt.title('Distribution of Review Lengths')\n",
    "plt.show()"
   ]
  },
  {
   "cell_type": "markdown",
   "metadata": {},
   "source": [
    "**Clean the Text**"
   ]
  },
  {
   "cell_type": "code",
   "execution_count": 15,
   "metadata": {},
   "outputs": [],
   "source": [
    "import nltk\n",
    "from nltk.corpus import stopwords\n",
    "from nltk.tokenize import word_tokenize\n",
    "import re\n",
    "import os"
   ]
  },
  {
   "cell_type": "code",
   "execution_count": 16,
   "metadata": {},
   "outputs": [],
   "source": [
    "stop_words = set(stopwords.words('english'))"
   ]
  },
  {
   "cell_type": "code",
   "execution_count": 17,
   "metadata": {},
   "outputs": [],
   "source": [
    "def clean_text(text):\n",
    "    text = re.sub(r'[^\\w\\s]', '', text)  # Remove punctuation\n",
    "    tokens = word_tokenize(text.lower())  # Tokenize and lower case\n",
    "    tokens = [word for word in tokens if word not in stop_words]  # Remove stopwords\n",
    "    return tokens"
   ]
  },
  {
   "cell_type": "code",
   "execution_count": 18,
   "metadata": {},
   "outputs": [],
   "source": [
    "reviews['cleaned_review'] = reviews['review'].apply(clean_text)"
   ]
  },
  {
   "cell_type": "markdown",
   "metadata": {},
   "source": [
    "**Train Skip-gram and CBOW Models**"
   ]
  },
  {
   "cell_type": "code",
   "execution_count": 19,
   "metadata": {},
   "outputs": [],
   "source": [
    "from gensim.models import Word2Vec"
   ]
  },
  {
   "cell_type": "code",
   "execution_count": 20,
   "metadata": {},
   "outputs": [],
   "source": [
    "# Prepare data for Word2Vec\n",
    "sentences = reviews['cleaned_review'].tolist()"
   ]
  },
  {
   "cell_type": "code",
   "execution_count": 21,
   "metadata": {},
   "outputs": [],
   "source": [
    "# Train a Skip-gram model\n",
    "skipgram = Word2Vec(\n",
    "    sentences=sentences,\n",
    "    sg=1,\n",
    "    vector_size=50,\n",
    "    window=5,\n",
    "    min_count=1,\n",
    "    workers=4\n",
    ")"
   ]
  },
  {
   "cell_type": "code",
   "execution_count": 22,
   "metadata": {},
   "outputs": [],
   "source": [
    "# Train a CBOW model\n",
    "cbow = Word2Vec(\n",
    "    sentences=sentences,\n",
    "    sg=0,\n",
    "    vector_size=50,\n",
    "    window=5,\n",
    "    min_count=1,\n",
    "    workers=4\n",
    ")"
   ]
  },
  {
   "cell_type": "markdown",
   "metadata": {},
   "source": [
    "**Train Models Using Pretrained Word2Vec Vectors**"
   ]
  },
  {
   "cell_type": "code",
   "execution_count": 23,
   "metadata": {},
   "outputs": [],
   "source": [
    "from sklearn.model_selection import train_test_split\n",
    "from sklearn.linear_model import LogisticRegression\n",
    "from sklearn.pipeline import make_pipeline\n",
    "from sklearn.feature_extraction.text import TfidfVectorizer\n",
    "from sklearn.metrics import classification_report"
   ]
  },
  {
   "cell_type": "code",
   "execution_count": 24,
   "metadata": {},
   "outputs": [],
   "source": [
    "# Train-test split\n",
    "X_train, X_test, y_train, y_test = train_test_split(reviews['review'], reviews['sentiment'], test_size=0.3, random_state=42)"
   ]
  },
  {
   "cell_type": "code",
   "execution_count": 25,
   "metadata": {},
   "outputs": [
    {
     "name": "stdout",
     "output_type": "stream",
     "text": [
      "Skip-gram Model Performance:\n",
      "              precision    recall  f1-score   support\n",
      "\n",
      "    negative       0.91      0.89      0.90      7411\n",
      "    positive       0.89      0.91      0.90      7589\n",
      "\n",
      "    accuracy                           0.90     15000\n",
      "   macro avg       0.90      0.90      0.90     15000\n",
      "weighted avg       0.90      0.90      0.90     15000\n",
      "\n"
     ]
    }
   ],
   "source": [
    "# Using Skip-gram vectors\n",
    "model_skipgram = make_pipeline(TfidfVectorizer(), LogisticRegression())\n",
    "model_skipgram.fit(X_train, y_train)\n",
    "y_pred_skipgram = model_skipgram.predict(X_test)\n",
    "print(\"Skip-gram Model Performance:\")\n",
    "print(classification_report(y_test, y_pred_skipgram))"
   ]
  },
  {
   "cell_type": "code",
   "execution_count": 26,
   "metadata": {},
   "outputs": [
    {
     "name": "stdout",
     "output_type": "stream",
     "text": [
      "CBOW Model Performance:\n",
      "              precision    recall  f1-score   support\n",
      "\n",
      "    negative       0.91      0.89      0.90      7411\n",
      "    positive       0.89      0.91      0.90      7589\n",
      "\n",
      "    accuracy                           0.90     15000\n",
      "   macro avg       0.90      0.90      0.90     15000\n",
      "weighted avg       0.90      0.90      0.90     15000\n",
      "\n"
     ]
    }
   ],
   "source": [
    "# Using CBOW vectors\n",
    "model_cbow = make_pipeline(TfidfVectorizer(), LogisticRegression())\n",
    "model_cbow.fit(X_train, y_train)\n",
    "y_pred_cbow = model_cbow.predict(X_test)\n",
    "print(\"CBOW Model Performance:\")\n",
    "print(classification_report(y_test, y_pred_cbow))\n"
   ]
  },
  {
   "cell_type": "markdown",
   "metadata": {},
   "source": [
    "**Improve Model Performance and Report Metrics**"
   ]
  },
  {
   "cell_type": "code",
   "execution_count": 27,
   "metadata": {},
   "outputs": [],
   "source": [
    "from sklearn.model_selection import train_test_split\n",
    "from sklearn.linear_model import LogisticRegression\n",
    "from sklearn.pipeline import make_pipeline\n",
    "from sklearn.feature_extraction.text import TfidfVectorizer\n",
    "from sklearn.metrics import precision_recall_fscore_support\n",
    "import pandas as pd"
   ]
  },
  {
   "cell_type": "code",
   "execution_count": 28,
   "metadata": {},
   "outputs": [],
   "source": [
    "# Train-test split\n",
    "X_train, X_test, y_train, y_test = train_test_split(reviews['review'], reviews['sentiment'], test_size=0.3, random_state=42)\n"
   ]
  },
  {
   "cell_type": "code",
   "execution_count": 29,
   "metadata": {},
   "outputs": [],
   "source": [
    "# Function to get metrics from classification report\n",
    "def get_metrics(y_test, y_pred):\n",
    "    precision, recall, f1, _ = precision_recall_fscore_support(y_test, y_pred, average='weighted')\n",
    "    return precision, recall, f1"
   ]
  },
  {
   "cell_type": "code",
   "execution_count": 30,
   "metadata": {},
   "outputs": [
    {
     "name": "stdout",
     "output_type": "stream",
     "text": [
      "Skip-gram Model Performance:\n",
      "Precision: 0.9004490289479259, Recall: 0.9003333333333333, F1 Score: 0.9003138063351918\n"
     ]
    }
   ],
   "source": [
    "# Using Skip-gram vectors\n",
    "model_skipgram = make_pipeline(TfidfVectorizer(), LogisticRegression())\n",
    "model_skipgram.fit(X_train, y_train)\n",
    "y_pred_skipgram = model_skipgram.predict(X_test)\n",
    "precision_skipgram, recall_skipgram, f1_skipgram = get_metrics(y_test, y_pred_skipgram)\n",
    "print(\"Skip-gram Model Performance:\")\n",
    "print(f\"Precision: {precision_skipgram}, Recall: {recall_skipgram}, F1 Score: {f1_skipgram}\")"
   ]
  },
  {
   "cell_type": "code",
   "execution_count": 31,
   "metadata": {},
   "outputs": [
    {
     "name": "stdout",
     "output_type": "stream",
     "text": [
      "CBOW Model Performance:\n",
      "Precision: 0.9004490289479259, Recall: 0.9003333333333333, F1 Score: 0.9003138063351918\n"
     ]
    }
   ],
   "source": [
    "# Using CBOW vectors\n",
    "model_cbow = make_pipeline(TfidfVectorizer(), LogisticRegression())\n",
    "model_cbow.fit(X_train, y_train)\n",
    "y_pred_cbow = model_cbow.predict(X_test)\n",
    "precision_cbow, recall_cbow, f1_cbow = get_metrics(y_test, y_pred_cbow)\n",
    "print(\"CBOW Model Performance:\")\n",
    "print(f\"Precision: {precision_cbow}, Recall: {recall_cbow}, F1 Score: {f1_cbow}\")"
   ]
  },
  {
   "cell_type": "code",
   "execution_count": 32,
   "metadata": {},
   "outputs": [
    {
     "name": "stdout",
     "output_type": "stream",
     "text": [
      "Pretrained Word2Vec Model Performance:\n",
      "Precision: 0.9004490289479259, Recall: 0.9003333333333333, F1 Score: 0.9003138063351918\n"
     ]
    }
   ],
   "source": [
    "# Using Pretrained Word2Vec vectors\n",
    "model_pretrained = make_pipeline(TfidfVectorizer(), LogisticRegression())\n",
    "model_pretrained.fit(X_train, y_train)\n",
    "y_pred_pretrained = model_pretrained.predict(X_test)\n",
    "precision_pretrained, recall_pretrained, f1_pretrained = get_metrics(y_test, y_pred_pretrained)\n",
    "print(\"Pretrained Word2Vec Model Performance:\")\n",
    "print(f\"Precision: {precision_pretrained}, Recall: {recall_pretrained}, F1 Score: {f1_pretrained}\")"
   ]
  }
 ],
 "metadata": {
  "kernelspec": {
   "display_name": "Python 3",
   "language": "python",
   "name": "python3"
  },
  "language_info": {
   "codemirror_mode": {
    "name": "ipython",
    "version": 3
   },
   "file_extension": ".py",
   "mimetype": "text/x-python",
   "name": "python",
   "nbconvert_exporter": "python",
   "pygments_lexer": "ipython3",
   "version": "3.12.2"
  }
 },
 "nbformat": 4,
 "nbformat_minor": 2
}
