{
 "cells": [
  {
   "cell_type": "markdown",
   "metadata": {},
   "source": [
    "**Build a date parser using basic text processing and rules.**"
   ]
  },
  {
   "cell_type": "code",
   "execution_count": 2,
   "metadata": {},
   "outputs": [],
   "source": [
    "import pandas as pd\n",
    "import datetime\n",
    "import re"
   ]
  },
  {
   "cell_type": "markdown",
   "metadata": {},
   "source": [
    "Load the dataset"
   ]
  },
  {
   "cell_type": "code",
   "execution_count": 3,
   "metadata": {},
   "outputs": [
    {
     "data": {
      "text/html": [
       "<div>\n",
       "<style scoped>\n",
       "    .dataframe tbody tr th:only-of-type {\n",
       "        vertical-align: middle;\n",
       "    }\n",
       "\n",
       "    .dataframe tbody tr th {\n",
       "        vertical-align: top;\n",
       "    }\n",
       "\n",
       "    .dataframe thead th {\n",
       "        text-align: right;\n",
       "    }\n",
       "</style>\n",
       "<table border=\"1\" class=\"dataframe\">\n",
       "  <thead>\n",
       "    <tr style=\"text-align: right;\">\n",
       "      <th></th>\n",
       "      <th>Input</th>\n",
       "      <th>Expected Output</th>\n",
       "    </tr>\n",
       "  </thead>\n",
       "  <tbody>\n",
       "    <tr>\n",
       "      <th>0</th>\n",
       "      <td>The event will take place on March 5, 2023.</td>\n",
       "      <td>05/03/2023</td>\n",
       "    </tr>\n",
       "    <tr>\n",
       "      <th>1</th>\n",
       "      <td>Her birthday is on 07/08/1990.</td>\n",
       "      <td>07/08/1990</td>\n",
       "    </tr>\n",
       "    <tr>\n",
       "      <th>2</th>\n",
       "      <td>The deadline is 2022-12-31.</td>\n",
       "      <td>31/12/2022</td>\n",
       "    </tr>\n",
       "    <tr>\n",
       "      <th>3</th>\n",
       "      <td>We met on 1st of January 2000.</td>\n",
       "      <td>01/01/2000</td>\n",
       "    </tr>\n",
       "    <tr>\n",
       "      <th>4</th>\n",
       "      <td>The concert is scheduled for 15th September, 2...</td>\n",
       "      <td>15/09/2021</td>\n",
       "    </tr>\n",
       "    <tr>\n",
       "      <th>...</th>\n",
       "      <td>...</td>\n",
       "      <td>...</td>\n",
       "    </tr>\n",
       "    <tr>\n",
       "      <th>95</th>\n",
       "      <td>We celebrate Independence Day on 2023-07-04, a...</td>\n",
       "      <td>04/07/2023</td>\n",
       "    </tr>\n",
       "    <tr>\n",
       "      <th>96</th>\n",
       "      <td>The final date for submission is 30th November...</td>\n",
       "      <td>30/11/2022</td>\n",
       "    </tr>\n",
       "    <tr>\n",
       "      <th>97</th>\n",
       "      <td>The annual conference is on 15th October 2023,...</td>\n",
       "      <td>15/10/2023</td>\n",
       "    </tr>\n",
       "    <tr>\n",
       "      <th>98</th>\n",
       "      <td>His birthdate, noted as 1990-05-20, is in the ...</td>\n",
       "      <td>20/05/1990</td>\n",
       "    </tr>\n",
       "    <tr>\n",
       "      <th>99</th>\n",
       "      <td>The festival will be celebrated on 12th August...</td>\n",
       "      <td>12/08/2024</td>\n",
       "    </tr>\n",
       "  </tbody>\n",
       "</table>\n",
       "<p>100 rows × 2 columns</p>\n",
       "</div>"
      ],
      "text/plain": [
       "                                                Input Expected Output\n",
       "0         The event will take place on March 5, 2023.      05/03/2023\n",
       "1                      Her birthday is on 07/08/1990.      07/08/1990\n",
       "2                         The deadline is 2022-12-31.      31/12/2022\n",
       "3                      We met on 1st of January 2000.      01/01/2000\n",
       "4   The concert is scheduled for 15th September, 2...      15/09/2021\n",
       "..                                                ...             ...\n",
       "95  We celebrate Independence Day on 2023-07-04, a...      04/07/2023\n",
       "96  The final date for submission is 30th November...      30/11/2022\n",
       "97  The annual conference is on 15th October 2023,...      15/10/2023\n",
       "98  His birthdate, noted as 1990-05-20, is in the ...      20/05/1990\n",
       "99  The festival will be celebrated on 12th August...      12/08/2024\n",
       "\n",
       "[100 rows x 2 columns]"
      ]
     },
     "execution_count": 3,
     "metadata": {},
     "output_type": "execute_result"
    }
   ],
   "source": [
    "dptc = pd.read_csv('date_parser_testcases.csv')\n",
    "dptc"
   ]
  },
  {
   "cell_type": "markdown",
   "metadata": {},
   "source": [
    "Case 1 : 01/01/2000 or 1/1/2000 or 01/01/00 or 1/1/00"
   ]
  },
  {
   "cell_type": "code",
   "execution_count": 4,
   "metadata": {},
   "outputs": [
    {
     "name": "stdout",
     "output_type": "stream",
     "text": [
      "Her birthday is on 07/08/1990.\n",
      "Let's catch up on 02.04.2022.\n",
      "The project started on 5/6/19.\n",
      "They got married on 12/12/12.\n",
      "Submit your report by 08/31/2021.\n",
      "The new year begins on 01-01-2023.\n",
      "The seminar is on 03/14/2022.\n",
      "My last day is 31.08.2020.\n",
      "They moved in on 12/25/2019.\n",
      "The ceremony is on 11.11.2021.\n",
      "The interview is on 1/2/2022.\n",
      "The opening is on 10/10/2018.\n",
      "The party is on 31-12-2022.\n",
      "Vacation starts on 07/15/2021.\n",
      "The closing date is 08/08/2020.\n",
      "The exam is on 01.01.2022.\n",
      "Her birthday, which she celebrates on 07/08/1990, is coming up soon.\n",
      "Remember, the meeting is on 02.04.2022 at 10 AM.\n",
      "Let's wrap up the project by 5/6/19, so we can relax.\n",
      "They celebrated their wedding on 12/12/12 in grand style.\n",
      "The submission deadline, noted as 08/31/2021, is fast approaching.\n",
      "The new year's celebration begins on 01-01-2023 at midnight.\n",
      "We scheduled the seminar for 03/14/2022, don't forget.\n",
      "My final working day here is noted as 31.08.2020.\n",
      "They officially moved in on 12/25/2019.\n",
      "The ceremony date is fixed as 11.11.2021.\n",
      "The job interview is on 1/2/2022, don't be late.\n",
      "The official opening date is 10/10/2018, as per the announcement.\n",
      "The New Year's Eve party is on 31-12-2022, join us!\n",
      "Vacation officially starts on 07/15/2021, get ready.\n",
      "The registration closing date is 08/08/2020.\n",
      "The exam will be held on 01.01.2022, start preparing.\n"
     ]
    }
   ],
   "source": [
    "match_count = 0\n",
    "found_indexes = []\n",
    "\n",
    "date_pattern = r'\\b\\d{1,2}[./-]\\d{1,2}[./-]\\d{2,4}\\b'\n",
    "\n",
    "for idx in range(len(dptc)):\n",
    "    text_entry = dptc['Input'][idx]\n",
    "    if re.search(date_pattern, text_entry):\n",
    "        print(text_entry)  \n",
    "        found_indexes.append(idx)\n",
    "        match_count += 1"
   ]
  },
  {
   "cell_type": "code",
   "execution_count": 5,
   "metadata": {},
   "outputs": [
    {
     "name": "stdout",
     "output_type": "stream",
     "text": [
      "Initial Match Percentage: 0.32\n"
     ]
    }
   ],
   "source": [
    "# Calculate initial match percentage\n",
    "initial_match_percentage = match_count / len(dptc)\n",
    "print(f'Initial Match Percentage: {initial_match_percentage:.2f}')"
   ]
  },
  {
   "cell_type": "code",
   "execution_count": 6,
   "metadata": {},
   "outputs": [],
   "source": [
    "# Handle dates with month names\n",
    "maybe = {}\n",
    "for i, text in enumerate(dptc['Input']):\n",
    "    if i not in found_indexes:\n",
    "        words = text.split()\n",
    "        for word in words:\n",
    "            if re.search(r'(jan ?|feb ?|mar ?|apr ?|may ?|june ?|jul ?|aug ?|sep ?|oct ?|nov ?|dec ?)', word.lower()):\n",
    "                maybe[text] = word"
   ]
  },
  {
   "cell_type": "code",
   "execution_count": 7,
   "metadata": {},
   "outputs": [
    {
     "name": "stdout",
     "output_type": "stream",
     "text": [
      "Maybe Matches: {'The event will take place on March 5, 2023.': 'March', 'We met on 1st of January 2000.': 'January', 'The concert is scheduled for 15th September, 2021.': 'September,', 'Christmas is on 25th Dec 2024.': 'Dec', 'The meeting is set for April 03, 2020.': 'April', 'Her appointment is on the 2nd of March, 2021.': 'March,', 'The workshop is on February 15th, 2022.': 'February', 'The course starts on 1st July 2023.': 'July', 'Independence Day is on 4th of July, 2022.': 'July,', 'The holiday starts on Dec 20th, 2021.': 'Dec', 'The conference will be held on 5th May 2023.': 'May', 'The festival begins on March 17, 2022.': 'March', 'Her graduation is on May 30th, 2022.': 'May', 'His wedding is on 6th of August, 2020.': 'August,', 'She was born on 3rd March 1998.': 'March', 'The workshop is on February 29, 2024.': 'February', 'The tournament is on June 1st, 2021.': 'June', 'The last date is 30th November 2022.': 'November', 'The conference is on 15th October 2023.': 'October', 'The festival is on 12th August 2024.': 'August', 'We are planning to meet on March 5, 2023, for lunch.': 'March', 'We first met on the 1st of January 2000 at the conference.': 'January', 'The concert, happening on 15th September 2021, will be amazing.': 'September', 'We celebrate Christmas every year on 25th Dec, including 2024.': 'Dec,', 'The meeting is rescheduled to April 03, 2020, as per the latest update.': 'April', 'Their anniversary is marked on the 2nd of March, 2021.': 'March,', 'Our next workshop is scheduled for February 15th, 2022.': 'February', 'The course officially begins on 1st July 2023.': 'July', 'We celebrate Independence Day on the 4th of July every year, including 2022.': 'July', 'The holiday vacation starts on Dec 20th, 2021, for everyone.': 'Dec', 'The conference, marked for 5th May 2023, is a significant event.': 'May', 'Our festival starts on March 17, 2022, with a parade.': 'March', 'The big event is planned for 2023/07/04, so mark your calendars.': 'mark', 'Her graduation day is set for May 30th, 2022.': 'May', 'The wedding is on 6th of August, 2020, in the evening.': 'August,', 'She mentioned she was born on the 3rd of March 1998.': 'March', 'The next workshop is on February 29, 2024, due to the leap year.': 'February', 'The tournament begins on June 1st, 2021, early in the morning.': 'June', 'The final date for submission is 30th November 2022.': 'November', 'The annual conference is on 15th October 2023, mark your calendars.': 'mark', 'The festival will be celebrated on 12th August 2024, with grand events.': 'August'}\n"
     ]
    }
   ],
   "source": [
    "print(f'Maybe Matches: {maybe}')"
   ]
  },
  {
   "cell_type": "code",
   "execution_count": 8,
   "metadata": {},
   "outputs": [],
   "source": [
    "# Convert month abbreviations to numbers and handle various formats\n",
    "shortlist = {}\n",
    "months = [\"january\", \"february\", \"march\", \"april\", \"may\", \"june\", \"july\", \"august\", \"september\", \"october\", \"november\", \"december\"]\n",
    "for text, word in maybe.items():\n",
    "    if len(word) >= 3 and word.lower() in months:\n",
    "        shortlist[text] = word\n",
    "        match_count += 1\n",
    "    elif len(word) == 3:\n",
    "        shortlist[text] = word\n",
    "        match_count += 1"
   ]
  },
  {
   "cell_type": "code",
   "execution_count": 9,
   "metadata": {},
   "outputs": [
    {
     "name": "stdout",
     "output_type": "stream",
     "text": [
      "Shortlist: {'The event will take place on March 5, 2023.': 'March', 'We met on 1st of January 2000.': 'January', 'Christmas is on 25th Dec 2024.': 'Dec', 'The meeting is set for April 03, 2020.': 'April', 'The workshop is on February 15th, 2022.': 'February', 'The course starts on 1st July 2023.': 'July', 'The holiday starts on Dec 20th, 2021.': 'Dec', 'The conference will be held on 5th May 2023.': 'May', 'The festival begins on March 17, 2022.': 'March', 'Her graduation is on May 30th, 2022.': 'May', 'She was born on 3rd March 1998.': 'March', 'The workshop is on February 29, 2024.': 'February', 'The tournament is on June 1st, 2021.': 'June', 'The last date is 30th November 2022.': 'November', 'The conference is on 15th October 2023.': 'October', 'The festival is on 12th August 2024.': 'August', 'We are planning to meet on March 5, 2023, for lunch.': 'March', 'We first met on the 1st of January 2000 at the conference.': 'January', 'The concert, happening on 15th September 2021, will be amazing.': 'September', 'The meeting is rescheduled to April 03, 2020, as per the latest update.': 'April', 'Our next workshop is scheduled for February 15th, 2022.': 'February', 'The course officially begins on 1st July 2023.': 'July', 'We celebrate Independence Day on the 4th of July every year, including 2022.': 'July', 'The holiday vacation starts on Dec 20th, 2021, for everyone.': 'Dec', 'The conference, marked for 5th May 2023, is a significant event.': 'May', 'Our festival starts on March 17, 2022, with a parade.': 'March', 'Her graduation day is set for May 30th, 2022.': 'May', 'She mentioned she was born on the 3rd of March 1998.': 'March', 'The next workshop is on February 29, 2024, due to the leap year.': 'February', 'The tournament begins on June 1st, 2021, early in the morning.': 'June', 'The final date for submission is 30th November 2022.': 'November', 'The festival will be celebrated on 12th August 2024, with grand events.': 'August'}\n"
     ]
    }
   ],
   "source": [
    "print(f'Shortlist: {shortlist}')"
   ]
  },
  {
   "cell_type": "code",
   "execution_count": 19,
   "metadata": {},
   "outputs": [
    {
     "ename": "SyntaxError",
     "evalue": "invalid syntax (3103701596.py, line 1)",
     "output_type": "error",
     "traceback": [
      "\u001b[0;36m  Cell \u001b[0;32mIn[19], line 1\u001b[0;36m\u001b[0m\n\u001b[0;31m    `# Function to convert month names to numbers\u001b[0m\n\u001b[0m    ^\u001b[0m\n\u001b[0;31mSyntaxError\u001b[0m\u001b[0;31m:\u001b[0m invalid syntax\n"
     ]
    }
   ],
   "source": [
    "`# Function to convert month names to numbers\n",
    "def month_name_to_number(month):\n",
    "    months = {\n",
    "        \"jan\": \"01\", \"january\": \"01\",\n",
    "        \"feb\": \"02\", \"february\": \"02\",\n",
    "        \"mar\": \"03\", \"march\": \"03\",\n",
    "        \"apr\": \"04\", \"april\": \"04\",\n",
    "        \"may\": \"05\",\n",
    "        \"jun\": \"06\", \"june\": \"06\",\n",
    "        \"jul\": \"07\", \"july\": \"07\",\n",
    "        \"aug\": \"08\", \"august\": \"08\",\n",
    "        \"sep\": \"09\", \"september\": \"09\",\n",
    "        \"oct\": \"10\", \"october\": \"10\",\n",
    "        \"nov\": \"11\", \"november\": \"11\",\n",
    "        \"dec\": \"12\", \"december\": \"12\"\n",
    "    }\n",
    "    return months.get(month.lower(), None)"
   ]
  },
  {
   "cell_type": "code",
   "execution_count": 20,
   "metadata": {},
   "outputs": [],
   "source": [
    "def ensure_full_year(year):\n",
    "    if len(year) == 2:\n",
    "        if int(year) <= int(str(pd.Timestamp.now().year)[-2:]):\n",
    "            return \"20\" + year  \n",
    "        else:\n",
    "            return \"19\" + year \n",
    "    return year"
   ]
  },
  {
   "cell_type": "code",
   "execution_count": 21,
   "metadata": {},
   "outputs": [],
   "source": [
    "def ensure_full_year(year):\n",
    "    if len(year) == 2:\n",
    "        if int(year) <= int(str(pd.Timestamp.now().year)[-2:]):\n",
    "            return \"20\" + year  \n",
    "        else:\n",
    "            return \"19\" + year \n",
    "    return year"
   ]
  },
  {
   "cell_type": "code",
   "execution_count": 22,
   "metadata": {},
   "outputs": [],
   "source": [
    "def parse_date(text):\n",
    "    patterns = [\n",
    "        r\"(\\d{1,2})(st|nd|rd|th)?\\s+of\\s+([A-Za-z]+)\\s*,?\\s*(\\d{4})\",\n",
    "        r\"(\\d{1,2})(st|nd|rd|th)?\\s+of\\s+([A-Za-z]+)\\s+(\\d{4})\",\n",
    "        r\"(\\d{1,2})(st|nd|rd|th)?\\s+([A-Za-z]+)\\s*,?\\s*(\\d{4})\", \n",
    "        r\"([A-Za-z]+)\\s+(\\d{1,2})(st|nd|rd|th)?\\s*,?\\s*(\\d{4})\",  \n",
    "        r\"(\\d{1,2})/(\\d{1,2})/(\\d{4})\",  \n",
    "        r\"(\\d{1,2})-(\\d{1,2})-(\\d{4})\",  \n",
    "        r\"(\\d{1,2})\\.(\\d{1,2})\\.(\\d{4})\",  \n",
    "        r\"(\\d{4})/(\\d{1,2})/(\\d{1,2})\",  \n",
    "        r\"(\\d{4})-(\\d{1,2})-(\\d{1,2})\",  \n",
    "        r\"(\\d{1,2})/(\\d{1,2})/(\\d{2})\",  \n",
    "        r\"(\\d{4})\\.(\\d{1,2})\\.(\\d{1,2})\",\n",
    "        r\"([A-Za-z]+)\\s+(\\d{1,2})(st|nd|rd|th)?,?\\s+(\\d{4})\",  \n",
    "        r\"(\\d{4})\\s+([A-Za-z]+)\\s+(\\d{1,2})(st|nd|rd|th)?\"\n",
    "    ]\n",
    "    \n",
    "    for pattern in patterns:\n",
    "        match = re.search(pattern, text)\n",
    "        if match:\n",
    "            try:\n",
    "                if pattern == r\"(\\d{1,2})/(\\d{1,2})/(\\d{4})\":\n",
    "                    month, day, year = match.groups()\n",
    "                    month, day = month.zfill(2), day.zfill(2)\n",
    "                    return f\"{day}/{month}/{year}\"\n",
    "                \n",
    "                if pattern == r\"(\\d{1,2})(st|nd|rd|th)?\\s+of\\s+([A-Za-z]+)\\s*,?\\s*(\\d{4})\":\n",
    "                    day, month, year = match.groups()[0], match.groups()[2], match.groups()[3]\n",
    "                    day = day.zfill(2)  \n",
    "                    month = month_name_to_number(month)  \n",
    "                    return f\"{day}/{month}/{year}\"\n",
    "                \n",
    "                if pattern == r\"(\\d{1,2})(st|nd|rd|th)?\\s+of\\s+([A-Za-z]+)\\s+every\\s+year(?:,\\s+including\\s+(\\d{4}))?\":\n",
    "                    day, month, year = match.groups()[0], match.groups()[2], match.groups()[3]\n",
    "                    day = day.zfill(2)\n",
    "                    month = month_name_to_number(month)\n",
    "                    if not year:\n",
    "                        year = datetime.now().year\n",
    "                    else:\n",
    "                        year = ensure_full_year(year)\n",
    "                    return f\"{day}/{month}/{year}\"\n",
    "                \n",
    "                if len(match.groups()) == 4:  \n",
    "                    day = match.group(1) if pattern.startswith(r\"(\\d{1,2})\") else match.group(2)\n",
    "                    day = day.zfill(2)\n",
    "                    month = match.group(3) if pattern.startswith(r\"(\\d{1,2})\") else match.group(1)\n",
    "                    if month.isdigit():  \n",
    "                        month = month.zfill(2)\n",
    "                    else:  \n",
    "                        month = month_name_to_number(month)\n",
    "                    year = match.group(4) if pattern.startswith(r\"(\\d{1,2})\") else match.group(4)\n",
    "                else:  \n",
    "                    if pattern.startswith(r\"(\\d{4})\"):  \n",
    "                        year, month, day = match.group(1), match.group(2).zfill(2), match.group(3).zfill(2)\n",
    "                    else:  \n",
    "                        day, month, year = match.group(1).zfill(2), match.group(2).zfill(2), match.group(3)\n",
    "\n",
    "                if year and len(year) == 2:\n",
    "                    year = ensure_full_year(year)\n",
    "                if month and len(month) == 1:\n",
    "                    month = f\"0{month}\"\n",
    "                if day and len(day) == 1:\n",
    "                    day = f\"0{day}\"\n",
    "                \n",
    "                return f\"{day}/{month}/{year}\"\n",
    "            except Exception as e:\n",
    "                print(f\"Error parsing date '{text}': {e}\")\n",
    "    \n",
    "    return None"
   ]
  },
  {
   "cell_type": "code",
   "execution_count": 23,
   "metadata": {},
   "outputs": [
    {
     "name": "stdout",
     "output_type": "stream",
     "text": [
      "Error parsing date 'The event will take place on March 5, 2023.': name 'month_name_to_number' is not defined\n",
      "Error parsing date 'The event will take place on March 5, 2023.': name 'month_name_to_number' is not defined\n",
      "Error parsing date 'We met on 1st of January 2000.': name 'month_name_to_number' is not defined\n",
      "Error parsing date 'We met on 1st of January 2000.': name 'month_name_to_number' is not defined\n",
      "Error parsing date 'The concert is scheduled for 15th September, 2021.': name 'month_name_to_number' is not defined\n",
      "Error parsing date 'Christmas is on 25th Dec 2024.': name 'month_name_to_number' is not defined\n",
      "Error parsing date 'The meeting is set for April 03, 2020.': name 'month_name_to_number' is not defined\n",
      "Error parsing date 'The meeting is set for April 03, 2020.': name 'month_name_to_number' is not defined\n",
      "Error parsing date 'Her appointment is on the 2nd of March, 2021.': name 'month_name_to_number' is not defined\n",
      "Error parsing date 'The workshop is on February 15th, 2022.': name 'month_name_to_number' is not defined\n",
      "Error parsing date 'The workshop is on February 15th, 2022.': name 'month_name_to_number' is not defined\n",
      "Error parsing date 'The course starts on 1st July 2023.': name 'month_name_to_number' is not defined\n",
      "Error parsing date 'Independence Day is on 4th of July, 2022.': name 'month_name_to_number' is not defined\n",
      "Error parsing date 'The holiday starts on Dec 20th, 2021.': name 'month_name_to_number' is not defined\n",
      "Error parsing date 'The holiday starts on Dec 20th, 2021.': name 'month_name_to_number' is not defined\n",
      "Error parsing date 'The conference will be held on 5th May 2023.': name 'month_name_to_number' is not defined\n",
      "Error parsing date 'The festival begins on March 17, 2022.': name 'month_name_to_number' is not defined\n",
      "Error parsing date 'The festival begins on March 17, 2022.': name 'month_name_to_number' is not defined\n",
      "Error parsing date 'Her graduation is on May 30th, 2022.': name 'month_name_to_number' is not defined\n",
      "Error parsing date 'Her graduation is on May 30th, 2022.': name 'month_name_to_number' is not defined\n",
      "Error parsing date 'His wedding is on 6th of August, 2020.': name 'month_name_to_number' is not defined\n",
      "Error parsing date 'She was born on 3rd March 1998.': name 'month_name_to_number' is not defined\n",
      "Error parsing date 'The workshop is on February 29, 2024.': name 'month_name_to_number' is not defined\n",
      "Error parsing date 'The workshop is on February 29, 2024.': name 'month_name_to_number' is not defined\n",
      "Error parsing date 'The tournament is on June 1st, 2021.': name 'month_name_to_number' is not defined\n",
      "Error parsing date 'The tournament is on June 1st, 2021.': name 'month_name_to_number' is not defined\n",
      "Error parsing date 'The last date is 30th November 2022.': name 'month_name_to_number' is not defined\n",
      "Error parsing date 'The conference is on 15th October 2023.': name 'month_name_to_number' is not defined\n",
      "Error parsing date 'The festival is on 12th August 2024.': name 'month_name_to_number' is not defined\n",
      "Error parsing date 'We are planning to meet on March 5, 2023, for lunch.': name 'month_name_to_number' is not defined\n",
      "Error parsing date 'We are planning to meet on March 5, 2023, for lunch.': name 'month_name_to_number' is not defined\n",
      "Error parsing date 'We first met on the 1st of January 2000 at the conference.': name 'month_name_to_number' is not defined\n",
      "Error parsing date 'We first met on the 1st of January 2000 at the conference.': name 'month_name_to_number' is not defined\n",
      "Error parsing date 'The concert, happening on 15th September 2021, will be amazing.': name 'month_name_to_number' is not defined\n",
      "Error parsing date 'The meeting is rescheduled to April 03, 2020, as per the latest update.': name 'month_name_to_number' is not defined\n",
      "Error parsing date 'The meeting is rescheduled to April 03, 2020, as per the latest update.': name 'month_name_to_number' is not defined\n",
      "Error parsing date 'Their anniversary is marked on the 2nd of March, 2021.': name 'month_name_to_number' is not defined\n",
      "Error parsing date 'Our next workshop is scheduled for February 15th, 2022.': name 'month_name_to_number' is not defined\n",
      "Error parsing date 'Our next workshop is scheduled for February 15th, 2022.': name 'month_name_to_number' is not defined\n",
      "Error parsing date 'The course officially begins on 1st July 2023.': name 'month_name_to_number' is not defined\n",
      "Error parsing date 'The holiday vacation starts on Dec 20th, 2021, for everyone.': name 'month_name_to_number' is not defined\n",
      "Error parsing date 'The holiday vacation starts on Dec 20th, 2021, for everyone.': name 'month_name_to_number' is not defined\n",
      "Error parsing date 'The conference, marked for 5th May 2023, is a significant event.': name 'month_name_to_number' is not defined\n",
      "Error parsing date 'Our festival starts on March 17, 2022, with a parade.': name 'month_name_to_number' is not defined\n",
      "Error parsing date 'Our festival starts on March 17, 2022, with a parade.': name 'month_name_to_number' is not defined\n",
      "Error parsing date 'Her graduation day is set for May 30th, 2022.': name 'month_name_to_number' is not defined\n",
      "Error parsing date 'Her graduation day is set for May 30th, 2022.': name 'month_name_to_number' is not defined\n",
      "Error parsing date 'The wedding is on 6th of August, 2020, in the evening.': name 'month_name_to_number' is not defined\n",
      "Error parsing date 'She mentioned she was born on the 3rd of March 1998.': name 'month_name_to_number' is not defined\n",
      "Error parsing date 'She mentioned she was born on the 3rd of March 1998.': name 'month_name_to_number' is not defined\n",
      "Error parsing date 'The next workshop is on February 29, 2024, due to the leap year.': name 'month_name_to_number' is not defined\n",
      "Error parsing date 'The next workshop is on February 29, 2024, due to the leap year.': name 'month_name_to_number' is not defined\n",
      "Error parsing date 'The tournament begins on June 1st, 2021, early in the morning.': name 'month_name_to_number' is not defined\n",
      "Error parsing date 'The tournament begins on June 1st, 2021, early in the morning.': name 'month_name_to_number' is not defined\n",
      "Error parsing date 'The final date for submission is 30th November 2022.': name 'month_name_to_number' is not defined\n",
      "Error parsing date 'The annual conference is on 15th October 2023, mark your calendars.': name 'month_name_to_number' is not defined\n",
      "Error parsing date 'The festival will be celebrated on 12th August 2024, with grand events.': name 'month_name_to_number' is not defined\n",
      "                                                Input Expected Output  \\\n",
      "0         The event will take place on March 5, 2023.      05/03/2023   \n",
      "1                      Her birthday is on 07/08/1990.      07/08/1990   \n",
      "2                         The deadline is 2022-12-31.      31/12/2022   \n",
      "3                      We met on 1st of January 2000.      01/01/2000   \n",
      "4   The concert is scheduled for 15th September, 2...      15/09/2021   \n",
      "..                                                ...             ...   \n",
      "95  We celebrate Independence Day on 2023-07-04, a...      04/07/2023   \n",
      "96  The final date for submission is 30th November...      30/11/2022   \n",
      "97  The annual conference is on 15th October 2023,...      15/10/2023   \n",
      "98  His birthdate, noted as 1990-05-20, is in the ...      20/05/1990   \n",
      "99  The festival will be celebrated on 12th August...      12/08/2024   \n",
      "\n",
      "   parsed_date  \n",
      "0         None  \n",
      "1   08/07/1990  \n",
      "2   31/12/2022  \n",
      "3         None  \n",
      "4         None  \n",
      "..         ...  \n",
      "95  04/07/2023  \n",
      "96        None  \n",
      "97        None  \n",
      "98  20/05/1990  \n",
      "99        None  \n",
      "\n",
      "[100 rows x 3 columns]\n"
     ]
    }
   ],
   "source": [
    "dptc['parsed_date'] = dptc['Input'].apply(parse_date)\n",
    "print(dptc)"
   ]
  },
  {
   "cell_type": "code",
   "execution_count": 24,
   "metadata": {},
   "outputs": [],
   "source": [
    "# Function to get expected output\n",
    "def expected_output(input_text):\n",
    "    return dptc[dptc['Input'] == input_text]['Expected Output'].values[0]"
   ]
  },
  {
   "cell_type": "code",
   "execution_count": 25,
   "metadata": {},
   "outputs": [
    {
     "name": "stdout",
     "output_type": "stream",
     "text": [
      "07/08/1990\n"
     ]
    }
   ],
   "source": [
    "print(expected_output(dptc['Input'][1]))"
   ]
  },
  {
   "cell_type": "code",
   "execution_count": 26,
   "metadata": {},
   "outputs": [],
   "source": [
    "correct = 0\n",
    "for idx in range(len(dptc)):\n",
    "    if expected_output(dptc['Input'][idx]) == dptc['parsed_date'][idx]:\n",
    "        correct += 1"
   ]
  },
  {
   "cell_type": "code",
   "execution_count": 27,
   "metadata": {},
   "outputs": [
    {
     "name": "stdout",
     "output_type": "stream",
     "text": [
      "Correct Percentage: 0.55\n"
     ]
    }
   ],
   "source": [
    "correct_percentage = correct / len(dptc)\n",
    "print(f'Correct Percentage: {correct_percentage:.2f}')"
   ]
  }
 ],
 "metadata": {
  "kernelspec": {
   "display_name": "Python 3",
   "language": "python",
   "name": "python3"
  },
  "language_info": {
   "codemirror_mode": {
    "name": "ipython",
    "version": 3
   },
   "file_extension": ".py",
   "mimetype": "text/x-python",
   "name": "python",
   "nbconvert_exporter": "python",
   "pygments_lexer": "ipython3",
   "version": "3.12.2"
  }
 },
 "nbformat": 4,
 "nbformat_minor": 2
}
