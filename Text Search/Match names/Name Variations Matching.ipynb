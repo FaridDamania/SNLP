{
 "cells": [
  {
   "cell_type": "code",
   "execution_count": 7,
   "metadata": {},
   "outputs": [],
   "source": [
    "import warnings\n",
    "warnings.filterwarnings(\"ignore\")"
   ]
  },
  {
   "cell_type": "code",
   "execution_count": 8,
   "metadata": {},
   "outputs": [],
   "source": [
    "import numpy as np\n",
    "import pandas as pd"
   ]
  },
  {
   "cell_type": "code",
   "execution_count": 9,
   "metadata": {},
   "outputs": [],
   "source": [
    "# Load the datasets\n",
    "name_variations = pd.read_csv('name_variations.csv')\n",
    "base_names = pd.read_csv('base_names.csv')"
   ]
  },
  {
   "cell_type": "code",
   "execution_count": 10,
   "metadata": {},
   "outputs": [],
   "source": [
    "# Preprocessing function for names\n",
    "def preprocess_name(name):\n",
    "    name = name.lower()  # Convert to lower case\n",
    "    name = ''.join([char for char in name if char.isalnum() or char.isspace()])  # Remove punctuation\n",
    "    return ' '.join(name.split())  # Remove extra spaces"
   ]
  },
  {
   "cell_type": "code",
   "execution_count": 11,
   "metadata": {},
   "outputs": [],
   "source": [
    "# Apply preprocessing\n",
    "name_variations['Processed_Variation'] = name_variations['Variation'].apply(preprocess_name)\n",
    "base_names['Processed_Base_Name'] = base_names['Base_Name'].apply(preprocess_name)"
   ]
  },
  {
   "cell_type": "code",
   "execution_count": 12,
   "metadata": {},
   "outputs": [],
   "source": [
    "# Fuzzy matching function for names\n",
    "from fuzzywuzzy import fuzz\n",
    "\n",
    "def fuzzy_name_match(variation, base_names_df):\n",
    "    scores = [fuzz.ratio(variation, base_name) for base_name in base_names_df['Processed_Base_Name']]\n",
    "    best_match_index = np.argmax(scores)\n",
    "    best_match_name = base_names_df.iloc[best_match_index]['Base_Name']\n",
    "    best_match_score = scores[best_match_index]\n",
    "    return best_match_name, best_match_score"
   ]
  },
  {
   "cell_type": "code",
   "execution_count": 13,
   "metadata": {},
   "outputs": [],
   "source": [
    "# Apply fuzzy matching to name variations\n",
    "name_variations['Best_Match'], name_variations['Match_Score'] = zip(\n",
    "    *name_variations['Processed_Variation'].apply(lambda variation: fuzzy_name_match(variation, base_names))\n",
    ")"
   ]
  },
  {
   "cell_type": "code",
   "execution_count": 14,
   "metadata": {},
   "outputs": [
    {
     "data": {
      "text/html": [
       "<div>\n",
       "<style scoped>\n",
       "    .dataframe tbody tr th:only-of-type {\n",
       "        vertical-align: middle;\n",
       "    }\n",
       "\n",
       "    .dataframe tbody tr th {\n",
       "        vertical-align: top;\n",
       "    }\n",
       "\n",
       "    .dataframe thead th {\n",
       "        text-align: right;\n",
       "    }\n",
       "</style>\n",
       "<table border=\"1\" class=\"dataframe\">\n",
       "  <thead>\n",
       "    <tr style=\"text-align: right;\">\n",
       "      <th></th>\n",
       "      <th>Variation</th>\n",
       "      <th>Matches_With_Base_Name</th>\n",
       "      <th>Best_Match</th>\n",
       "      <th>Match_Score</th>\n",
       "    </tr>\n",
       "  </thead>\n",
       "  <tbody>\n",
       "    <tr>\n",
       "      <th>0</th>\n",
       "      <td>Thomas  King</td>\n",
       "      <td>Thomas King</td>\n",
       "      <td>Thomas King</td>\n",
       "      <td>100</td>\n",
       "    </tr>\n",
       "    <tr>\n",
       "      <th>1</th>\n",
       "      <td>ThomasKing</td>\n",
       "      <td>Thomas King</td>\n",
       "      <td>Thomas King</td>\n",
       "      <td>95</td>\n",
       "    </tr>\n",
       "    <tr>\n",
       "      <th>2</th>\n",
       "      <td>Maria Garcia</td>\n",
       "      <td>Maria Garcia</td>\n",
       "      <td>Maria Garcia</td>\n",
       "      <td>100</td>\n",
       "    </tr>\n",
       "    <tr>\n",
       "      <th>3</th>\n",
       "      <td>MaryLewis</td>\n",
       "      <td>Mary Lewis</td>\n",
       "      <td>Mary Lewis</td>\n",
       "      <td>95</td>\n",
       "    </tr>\n",
       "    <tr>\n",
       "      <th>4</th>\n",
       "      <td>Nancy W.</td>\n",
       "      <td>Nancy Wright</td>\n",
       "      <td>Nancy Wright</td>\n",
       "      <td>74</td>\n",
       "    </tr>\n",
       "    <tr>\n",
       "      <th>...</th>\n",
       "      <td>...</td>\n",
       "      <td>...</td>\n",
       "      <td>...</td>\n",
       "      <td>...</td>\n",
       "    </tr>\n",
       "    <tr>\n",
       "      <th>95</th>\n",
       "      <td>Jennifer- Brown</td>\n",
       "      <td>Jennifer Brown</td>\n",
       "      <td>Jennifer Brown</td>\n",
       "      <td>100</td>\n",
       "    </tr>\n",
       "    <tr>\n",
       "      <th>96</th>\n",
       "      <td>Daniel- Scott</td>\n",
       "      <td>Daniel Scott</td>\n",
       "      <td>Daniel Scott</td>\n",
       "      <td>100</td>\n",
       "    </tr>\n",
       "    <tr>\n",
       "      <th>97</th>\n",
       "      <td>David M.</td>\n",
       "      <td>David Martinez</td>\n",
       "      <td>David Martinez</td>\n",
       "      <td>67</td>\n",
       "    </tr>\n",
       "    <tr>\n",
       "      <th>98</th>\n",
       "      <td>Paul Allen.</td>\n",
       "      <td>Paul Allen</td>\n",
       "      <td>Paul Allen</td>\n",
       "      <td>100</td>\n",
       "    </tr>\n",
       "    <tr>\n",
       "      <th>99</th>\n",
       "      <td>Paul  Allen</td>\n",
       "      <td>Paul Allen</td>\n",
       "      <td>Paul Allen</td>\n",
       "      <td>100</td>\n",
       "    </tr>\n",
       "  </tbody>\n",
       "</table>\n",
       "<p>100 rows × 4 columns</p>\n",
       "</div>"
      ],
      "text/plain": [
       "          Variation Matches_With_Base_Name      Best_Match  Match_Score\n",
       "0      Thomas  King            Thomas King     Thomas King          100\n",
       "1        ThomasKing            Thomas King     Thomas King           95\n",
       "2      Maria Garcia           Maria Garcia    Maria Garcia          100\n",
       "3         MaryLewis             Mary Lewis      Mary Lewis           95\n",
       "4          Nancy W.           Nancy Wright    Nancy Wright           74\n",
       "..              ...                    ...             ...          ...\n",
       "95  Jennifer- Brown         Jennifer Brown  Jennifer Brown          100\n",
       "96    Daniel- Scott           Daniel Scott    Daniel Scott          100\n",
       "97         David M.         David Martinez  David Martinez           67\n",
       "98      Paul Allen.             Paul Allen      Paul Allen          100\n",
       "99      Paul  Allen             Paul Allen      Paul Allen          100\n",
       "\n",
       "[100 rows x 4 columns]"
      ]
     },
     "execution_count": 14,
     "metadata": {},
     "output_type": "execute_result"
    }
   ],
   "source": [
    "# Display final matching results\n",
    "name_variations[['Variation', 'Matches_With_Base_Name', 'Best_Match', 'Match_Score']]"
   ]
  },
  {
   "cell_type": "code",
   "execution_count": null,
   "metadata": {},
   "outputs": [],
   "source": []
  }
 ],
 "metadata": {
  "kernelspec": {
   "display_name": "Python 3",
   "language": "python",
   "name": "python3"
  },
  "language_info": {
   "codemirror_mode": {
    "name": "ipython",
    "version": 3
   },
   "file_extension": ".py",
   "mimetype": "text/x-python",
   "name": "python",
   "nbconvert_exporter": "python",
   "pygments_lexer": "ipython3",
   "version": "3.12.6"
  }
 },
 "nbformat": 4,
 "nbformat_minor": 2
}
