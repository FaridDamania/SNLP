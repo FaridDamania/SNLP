{
 "cells": [
  {
   "cell_type": "code",
   "execution_count": 1,
   "metadata": {},
   "outputs": [],
   "source": [
    "import pandas as pd\n",
    "import numpy as np\n",
    "\n",
    "# Load datasets\n",
    "resolved_df = pd.read_csv('resolved_queries.csv')\n",
    "unresolved_df = pd.read_csv('new_queries.csv')"
   ]
  },
  {
   "cell_type": "code",
   "execution_count": 46,
   "metadata": {},
   "outputs": [],
   "source": [
    "from thefuzz import fuzz\n",
    "\n",
    "# Fuzzy Matching - Partial Token Sort Ratio\n",
    "unresolved_df['Max_Fuzzy_Score'] = 0\n",
    "\n",
    "for q_idx in range(len(unresolved_df)):\n",
    "    for r_idx in range(len(resolved_df)):\n",
    "        fuzzy_score = fuzz.partial_token_sort_ratio(unresolved_df['Variation_Query'][q_idx], resolved_df['Pre_Resolved_Query'][r_idx])\n",
    "        if fuzzy_score > 60 and fuzzy_score > unresolved_df.loc[q_idx, 'Max_Fuzzy_Score']:\n",
    "            unresolved_df.loc[q_idx, 'Max_Fuzzy_Score'] = fuzzy_score\n",
    "            unresolved_df.loc[q_idx, 'Matched_Query_ID_ptsr'] = r_idx + 1\n",
    "\n",
    "unresolved_df.drop(columns=['Max_Fuzzy_Score'], inplace=True)"
   ]
  },
  {
   "cell_type": "code",
   "execution_count": 47,
   "metadata": {},
   "outputs": [],
   "source": [
    "# Fuzzy Matching - Partial Ratio\n",
    "unresolved_df['Max_Fuzzy_Score'] = 0\n",
    "\n",
    "for q_idx in range(len(unresolved_df)):\n",
    "    for r_idx in range(len(resolved_df)):\n",
    "        fuzzy_score = fuzz.partial_ratio(unresolved_df['Variation_Query'][q_idx], resolved_df['Pre_Resolved_Query'][r_idx])\n",
    "        if fuzzy_score > 60 and fuzzy_score > unresolved_df.loc[q_idx, 'Max_Fuzzy_Score']:\n",
    "            unresolved_df.loc[q_idx, 'Max_Fuzzy_Score'] = fuzzy_score\n",
    "            unresolved_df.loc[q_idx, 'Matched_Query_ID_pr'] = r_idx + 1\n",
    "\n",
    "unresolved_df.drop(columns=['Max_Fuzzy_Score'], inplace=True)"
   ]
  },
  {
   "cell_type": "code",
   "execution_count": 48,
   "metadata": {},
   "outputs": [],
   "source": [
    "# Fuzzy Matching - Token Set Ratio\n",
    "unresolved_df['Max_Fuzzy_Score'] = 0\n",
    "\n",
    "for q_idx in range(len(unresolved_df)):\n",
    "    for r_idx in range(len(resolved_df)):\n",
    "        fuzzy_score = fuzz.token_set_ratio(unresolved_df['Variation_Query'][q_idx], resolved_df['Pre_Resolved_Query'][r_idx])\n",
    "        if fuzzy_score > 60 and fuzzy_score > unresolved_df.loc[q_idx, 'Max_Fuzzy_Score']:\n",
    "            unresolved_df.loc[q_idx, 'Max_Fuzzy_Score'] = fuzzy_score\n",
    "            unresolved_df.loc[q_idx, 'Matched_Query_ID_tsr'] = r_idx + 1\n",
    "\n",
    "unresolved_df.drop(columns=['Max_Fuzzy_Score'], inplace=True)"
   ]
  },
  {
   "cell_type": "code",
   "execution_count": 49,
   "metadata": {},
   "outputs": [],
   "source": [
    "# Fuzzy Matching - Token Sort Ratio\n",
    "unresolved_df['Max_Fuzzy_Score'] = 0\n",
    "\n",
    "for q_idx in range(len(unresolved_df)):\n",
    "    for r_idx in range(len(resolved_df)):\n",
    "        fuzzy_score = fuzz.token_sort_ratio(unresolved_df['Variation_Query'][q_idx], resolved_df['Pre_Resolved_Query'][r_idx])\n",
    "        if fuzzy_score > 60 and fuzzy_score > unresolved_df.loc[q_idx, 'Max_Fuzzy_Score']:\n",
    "            unresolved_df.loc[q_idx, 'Max_Fuzzy_Score'] = fuzzy_score\n",
    "            unresolved_df.loc[q_idx, 'Matched_Query_ID_tsr2'] = r_idx + 1\n",
    "\n",
    "unresolved_df.drop(columns=['Max_Fuzzy_Score'], inplace=True)"
   ]
  },
  {
   "cell_type": "code",
   "execution_count": 50,
   "metadata": {},
   "outputs": [],
   "source": [
    "# TF-IDF Cosine Similarity\n",
    "unresolved_df['Max_Similarity'] = 0"
   ]
  },
  {
   "cell_type": "code",
   "execution_count": 51,
   "metadata": {},
   "outputs": [],
   "source": [
    "combined_queries = list(unresolved_df['Variation_Query']) + list(resolved_df['Pre_Resolved_Query'])"
   ]
  },
  {
   "cell_type": "code",
   "execution_count": 52,
   "metadata": {},
   "outputs": [],
   "source": [
    "from sklearn.feature_extraction.text import TfidfVectorizer\n",
    "\n",
    "tfidf_vectorizer = TfidfVectorizer()\n",
    "tfidf_matrix = tfidf_vectorizer.fit_transform(combined_queries)"
   ]
  },
  {
   "cell_type": "code",
   "execution_count": 53,
   "metadata": {},
   "outputs": [],
   "source": [
    "# Split TF-IDF matrix\n",
    "tfidf_queries = tfidf_matrix[:len(unresolved_df)]\n",
    "tfidf_resolved = tfidf_matrix[len(unresolved_df):]"
   ]
  },
  {
   "cell_type": "code",
   "execution_count": 39,
   "metadata": {},
   "outputs": [],
   "source": [
    "# Split the matrix for resolved and unresolved queries\n",
    "resolved_tfidf = tfidf_matrix[:len(resolved_df)]\n",
    "unresolved_tfidf = tfidf_matrix[len(resolved_df):]"
   ]
  },
  {
   "cell_type": "code",
   "execution_count": 54,
   "metadata": {},
   "outputs": [
    {
     "name": "stderr",
     "output_type": "stream",
     "text": [
      "/var/folders/kd/m601fvr931vgr06p0n_jt6bw0000gn/T/ipykernel_35447/750777310.py:8: FutureWarning: Setting an item of incompatible dtype is deprecated and will raise an error in a future version of pandas. Value '0.5559733949526011' has dtype incompatible with int64, please explicitly cast to a compatible dtype first.\n",
      "  unresolved_df.loc[q_idx, 'Max_Similarity'] = similarity_score\n"
     ]
    }
   ],
   "source": [
    "from sklearn.metrics.pairwise import cosine_similarity\n",
    "\n",
    "# Calculate cosine similarities and update results\n",
    "for q_idx in range(len(unresolved_df)):\n",
    "    for r_idx in range(len(resolved_df)):\n",
    "        similarity_score = cosine_similarity(tfidf_queries[q_idx], tfidf_resolved[r_idx])[0][0]\n",
    "        if similarity_score > unresolved_df.loc[q_idx, 'Max_Similarity']:\n",
    "            unresolved_df.loc[q_idx, 'Max_Similarity'] = similarity_score\n",
    "            unresolved_df.loc[q_idx, 'Matched_Query_ID_tfidf'] = r_idx + 1\n"
   ]
  },
  {
   "cell_type": "code",
   "execution_count": 55,
   "metadata": {},
   "outputs": [
    {
     "name": "stdout",
     "output_type": "stream",
     "text": [
      "                              Variation_Query  Matched_Query_ID_tfidf  \\\n",
      "0            Unabel to conect to the internet                     1.0   \n",
      "1                   Can’t connect to internet                     1.0   \n",
      "2                         Intenet not working                     NaN   \n",
      "3                Payment failed while chekout                     2.0   \n",
      "4   Payment did not go through during chckout                     2.0   \n",
      "5                  Payment issue at check out                     2.0   \n",
      "6    Application crashes when opening setings                     3.0   \n",
      "7            App crash when going to settings                     3.0   \n",
      "8            Settings cause the app to chrash                     3.0   \n",
      "9               Forgot passwrd and cant reset                     4.0   \n",
      "10        Forgotten password, unable to reset                     4.0   \n",
      "11                  I can’t reset my password                     4.0   \n",
      "12             Unable to uplod file to server                     5.0   \n",
      "13        Can't upload files on to the server                     5.0   \n",
      "14       File uploading to server not working                     5.0   \n",
      "15        No internet connection, please help                     1.0   \n",
      "16          Checkout page says payment failed                     2.0   \n",
      "17      Settings page crashes app immediately                     3.0   \n",
      "18            Password reset link not working                     4.0   \n",
      "19  Server upload fails with an error message                     5.0   \n",
      "\n",
      "    Max_Similarity  \n",
      "0         0.555973  \n",
      "1         0.676463  \n",
      "2         0.000000  \n",
      "3         0.388131  \n",
      "4         0.319082  \n",
      "5         0.137678  \n",
      "6         0.577480  \n",
      "7         0.490914  \n",
      "8         0.315979  \n",
      "9         0.558330  \n",
      "10        0.580006  \n",
      "11        0.345150  \n",
      "12        0.512930  \n",
      "13        0.709497  \n",
      "14        0.257151  \n",
      "15        0.142764  \n",
      "16        0.605548  \n",
      "17        0.521976  \n",
      "18        0.314292  \n",
      "19        0.231851  \n"
     ]
    }
   ],
   "source": [
    "# Display the dataframe with matched IDs\n",
    "print(unresolved_df[['Variation_Query', 'Matched_Query_ID_tfidf', 'Max_Similarity']])"
   ]
  },
  {
   "cell_type": "code",
   "execution_count": 56,
   "metadata": {},
   "outputs": [
    {
     "name": "stdout",
     "output_type": "stream",
     "text": [
      "Accuracy for Cleaned_Query: 0.00%\n",
      "Accuracy for Best_Fuzzy_Match: 100.00%\n",
      "Accuracy for Fuzzy_Score: 0.00%\n",
      "Accuracy for Best_TFIDF_Match: 100.00%\n",
      "Accuracy for TFIDF_Similarity_Score: 0.00%\n",
      "Accuracy for Matched_Query_ID_ptsr: 85.00%\n",
      "Accuracy for Matched_Query_ID_pr: 60.00%\n",
      "Accuracy for Matched_Query_ID_tsr: 85.00%\n",
      "Accuracy for Matched_Query_ID_tsr2: 80.00%\n",
      "Accuracy for Max_Similarity: 0.00%\n",
      "Accuracy for Matched_Query_ID_tfidf: 95.00%\n"
     ]
    }
   ],
   "source": [
    "# Accuracy Calculation for each method\n",
    "for col in unresolved_df.columns[2:]:\n",
    "    correct_matches = 0\n",
    "    for idx in range(len(unresolved_df)):\n",
    "        if unresolved_df[col][idx] == unresolved_df['Matches_With_Query_ID'][idx]:\n",
    "            correct_matches += 1\n",
    "    match_accuracy = (correct_matches / len(unresolved_df)) * 100\n",
    "    print(f'Accuracy for {col}: {match_accuracy:.2f}%')"
   ]
  }
 ],
 "metadata": {
  "kernelspec": {
   "display_name": "Python 3",
   "language": "python",
   "name": "python3"
  },
  "language_info": {
   "codemirror_mode": {
    "name": "ipython",
    "version": 3
   },
   "file_extension": ".py",
   "mimetype": "text/x-python",
   "name": "python",
   "nbconvert_exporter": "python",
   "pygments_lexer": "ipython3",
   "version": "3.12.6"
  }
 },
 "nbformat": 4,
 "nbformat_minor": 2
}
